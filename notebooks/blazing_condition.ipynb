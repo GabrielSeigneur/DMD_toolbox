{
 "cells": [
  {
   "cell_type": "code",
   "execution_count": null,
   "id": "59f49624",
   "metadata": {},
   "outputs": [],
   "source": [
    "\n",
    "import matplotlib\n",
    "import numpy as np\n",
    "\n",
    "from dmd_toolbox.blazing import DMDSetup\n",
    "from dmd_toolbox.utils import checkdep_usetex"
   ]
  },
  {
   "cell_type": "code",
   "execution_count": null,
   "id": "fe86a652",
   "metadata": {},
   "outputs": [],
   "source": [
    "matplotlib.rcParams['text.usetex'] = checkdep_usetex(True)\n",
    "dmd = DMDSetup()\n",
    "dmd.get_all_phase_shifts()\n",
    "dmd.plot_phase_shift()\n",
    "print(\n",
    "    f\"Blazed orders for latitude {np.rad2deg(dmd.lat_planar):.2f}°: {dmd.blazed_orders}\"\n",
    ")"
   ]
  }
 ],
 "metadata": {
  "kernelspec": {
   "display_name": "dev",
   "language": "python",
   "name": "python3"
  },
  "language_info": {
   "codemirror_mode": {
    "name": "ipython",
    "version": 3
   },
   "file_extension": ".py",
   "mimetype": "text/x-python",
   "name": "python",
   "nbconvert_exporter": "python",
   "pygments_lexer": "ipython3",
   "version": "3.13.5"
  }
 },
 "nbformat": 4,
 "nbformat_minor": 5
}
