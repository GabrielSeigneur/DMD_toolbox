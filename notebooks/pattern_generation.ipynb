{
 "cells": [
  {
   "cell_type": "code",
   "execution_count": null,
   "id": "babf229e",
   "metadata": {},
   "outputs": [],
   "source": [
    "from pathlib import Path\n",
    "\n",
    "import matplotlib\n",
    "import matplotlib.pyplot as plt\n",
    "import numpy as np\n",
    "\n",
    "from dmd_toolbox.pattern import analogDMDPattern, binaryMask\n",
    "from dmd_toolbox.pattern.dataloader import DMDPadding, analogBWImage\n",
    "from dmd_toolbox.pattern.func import gaussian\n",
    "from dmd_toolbox.utils import checkdep_usetex"
   ]
  },
  {
   "cell_type": "code",
   "execution_count": null,
   "id": "876b5476",
   "metadata": {},
   "outputs": [],
   "source": [
    "matplotlib.rcParams['text.usetex'] = checkdep_usetex(True)\n",
    "ROOT = Path(\"./..\")"
   ]
  },
  {
   "cell_type": "markdown",
   "id": "466b6572",
   "metadata": {},
   "source": [
    "## Usage for ED (on Cicero)"
   ]
  },
  {
   "cell_type": "code",
   "execution_count": null,
   "id": "80a0bbb8",
   "metadata": {},
   "outputs": [],
   "source": [
    "cicero_image = analogBWImage(img_path=ROOT.joinpath(\"Test_Analog_Images/Cicero_BW.jpg\"))\n",
    "\n",
    "# normalise cicero_image to 0-0.9 range (image is encoded in 8 bits, so values are between 0 and 255)\n",
    "\n",
    "DMD_height, DMD_width = 1080, 1920\n",
    "\n",
    "# Setup the padding for the Cicero image on the DMD array\n",
    "padding_cicero_dim = (\n",
    "    cicero_image.shape[0] // 2,  # Top padding\n",
    "    DMD_height\n",
    "    - cicero_image.shape[0] // 2\n",
    "    - cicero_image.shape[0],  # Bottom padding\n",
    "    cicero_image.shape[1] // 2,  # Left padding\n",
    "    DMD_width\n",
    "    - cicero_image.shape[1] // 2\n",
    "    - cicero_image.shape[1],  # Right padding\n",
    ")\n",
    "padding_cicero = DMDPadding(padding_cicero_dim, DMD_height, DMD_width)\n",
    "\n",
    "# Crreate an analogDMDPattern instance for the Cicero image and correct for distortion\n",
    "cicero_pattern = analogDMDPattern(cicero_image)\n",
    "# Create a binary mask from the cicero pattern (assuming A = 0.5, B = 0.5 for calibration)\n",
    "cicero_mask = binaryMask(\n",
    "    cicero_pattern.pattern, padding_cicero_dim, DMD_height, DMD_width\n",
    ")\n",
    "cicero_mask.calibrate_pattern(0.5, 0.5)\n",
    "\n",
    "cicero_mask.perform_error_diffusion(\n",
    "    cicero_image, save_path=\"ED Patterns/Cicero_test/Cicero_image_ED.bmp\"\n",
    ")\n",
    "\n",
    "fig, ax = plt.subplots(2, 2, figsize=(20, 20))\n",
    "ax[0, 0].imshow(cicero_image, cmap=\"gray\")\n",
    "ax[0, 0].set_title(\"Original Cicero Image\")\n",
    "ax[0, 0].axis(\"off\")\n",
    "\n",
    "ax[0, 1].imshow(cicero_mask.analog_pattern.pattern_corr, cmap=\"gray\")\n",
    "ax[0, 1].set_title(\n",
    "    r\"Corrected Cicero Image (analogDMDPattern) $\\alpha=\"\n",
    "    + f\"{np.rad2deg(-4.5):.2f}$,\"\n",
    "    + r\"$\\beta=\"\n",
    "    + f\"{np.rad2deg(-2.5):.2f}$,\"\n",
    "    + r\"$\\gamma=1.09$\",\n",
    ")\n",
    "ax[0, 1].axis(\"off\")\n",
    "\n",
    "ax[1, 0].imshow(cicero_mask.calibrated_pattern, cmap=\"gray\")\n",
    "ax[1, 0].set_title(\"Calibrated Cicero Pattern\")\n",
    "ax[1, 0].axis(\"off\")\n",
    "\n",
    "ax[1, 1].imshow(cicero_mask.binary_mask, cmap=\"gray\")\n",
    "ax[1, 1].set_title(\"Binary Mask after Error Diffusion\")\n",
    "ax[1, 1].axis(\"off\")\n",
    "\n",
    "plt.tight_layout()\n",
    "plt.savefig(ROOT.joinpath(\"ED Patterns/Cicero_test/cicero_patterns.png\"), dpi=300, bbox_inches=\"tight\")\n",
    "# plt.show()\n"
   ]
  },
  {
   "cell_type": "markdown",
   "id": "7b00fa72",
   "metadata": {},
   "source": [
    "## Usage for distortion correction - Gaussian Potential"
   ]
  },
  {
   "cell_type": "code",
   "execution_count": null,
   "id": "34480995",
   "metadata": {},
   "outputs": [],
   "source": [
    "\n",
    "height, width = 1080, 1920\n",
    "x, y = np.meshgrid(np.linspace(-width//2, width//2, width), np.linspace(-height//2, height//2, height))\n",
    "gaussian_potential = gaussian(np.zeros((height, width)), sigma=100)\n",
    "\n",
    "# Create a analogDMDpattern instance\n",
    "gaussian_pattern = analogDMDPattern(gaussian_potential)\n",
    "\n",
    "# Correct for distortion with gaussian_corr\n",
    "alpha, beta, gamma = np.deg2rad(-4.5), np.deg2rad(-2.5), 1.09\n",
    "gaussian_pattern.correct_distortion(alpha, beta, gamma)\n",
    "\n",
    "fig, ax = plt.subplots(1, 2, figsize=(10, 20))\n",
    "ax[0].imshow(gaussian_potential, cmap='gray')\n",
    "ax[0].set_title(\"Original Gaussian Potential\")\n",
    "ax[0].axis('off')\n",
    "\n",
    "ax[1].imshow(gaussian_pattern.pattern_corr, cmap='gray')\n",
    "ax[1].set_title(r\"Corrected Gaussian Potential (analogDMDPattern) $\\alpha=\"\n",
    "                + f\"{np.rad2deg(alpha):.2f}$,\" +r\"$\\beta=\"+f\"{np.rad2deg(beta):.2f}$,\"\n",
    "                + r\"$\\gamma=\"+f\"{gamma:.2f}$\")\n",
    "ax[1].axis('off')\n"
   ]
  }
 ],
 "metadata": {
  "kernelspec": {
   "display_name": "dev",
   "language": "python",
   "name": "python3"
  },
  "language_info": {
   "codemirror_mode": {
    "name": "ipython",
    "version": 3
   },
   "file_extension": ".py",
   "mimetype": "text/x-python",
   "name": "python",
   "nbconvert_exporter": "python",
   "pygments_lexer": "ipython3",
   "version": "3.13.5"
  }
 },
 "nbformat": 4,
 "nbformat_minor": 5
}
